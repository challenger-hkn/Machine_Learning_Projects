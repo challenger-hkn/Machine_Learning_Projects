{
 "cells": [
  {
   "cell_type": "markdown",
   "metadata": {
    "id": "curQqdpMbV8a"
   },
   "source": [
    "<img src=\"https://miro.medium.com/max/647/1*ZOcUPrSXLYucFxppoI-dYg.png\">"
   ]
  },
  {
   "cell_type": "markdown",
   "metadata": {
    "id": "vIdfp9zXbV8w"
   },
   "source": [
    "# Problem definition\n"
   ]
  },
  {
   "cell_type": "markdown",
   "metadata": {
    "id": "_f1vwRmsbV8z"
   },
   "source": [
    "For this project we are using a car dataset, where we want to predict the selling price of car based on its certain features. \n",
    "Since we need to find the real value, with real calculation, therefore this problem is regression problem. \n",
    "We will be using linear regression to solve this problem. This dataset contains information about used cars listed on www.cardekho.com. \n"
   ]
  },
  {
   "cell_type": "markdown",
   "metadata": {},
   "source": [
    "### Data description \n",
    "- **Car_Name:** Name of the car\n",
    "- **Year:** Production Year\n",
    "- **Selling_Price:** Selling price\n",
    "- **Present_Price:** Present buying price\n",
    "- **Kms_Driven:** Kilometers driven value\n",
    "- **Fuel_Type:** Fuel type\n",
    "- **Seller_Type:** Seller Type\n",
    "- **Transmission:** Transmission Type\n",
    "- **Owner:** Ownership status (1 = yes, 0 = no)"
   ]
  },
  {
   "cell_type": "markdown",
   "metadata": {
    "id": "m79bZ3ojbV82"
   },
   "source": [
    "# Libraries"
   ]
  },
  {
   "cell_type": "code",
   "execution_count": 1,
   "metadata": {
    "id": "zk6tvPRBbV84"
   },
   "outputs": [],
   "source": [
    "import pandas as pd\n",
    "import numpy as np\n",
    "import matplotlib.pyplot as plt\n",
    "import seaborn as sns"
   ]
  },
  {
   "cell_type": "markdown",
   "metadata": {
    "id": "Zu7fPn5HbV87"
   },
   "source": [
    "# Data Gathering"
   ]
  },
  {
   "cell_type": "code",
   "execution_count": 2,
   "metadata": {
    "id": "Hgyy7dkrbV89"
   },
   "outputs": [
    {
     "data": {
      "text/html": [
       "<div>\n",
       "<style scoped>\n",
       "    .dataframe tbody tr th:only-of-type {\n",
       "        vertical-align: middle;\n",
       "    }\n",
       "\n",
       "    .dataframe tbody tr th {\n",
       "        vertical-align: top;\n",
       "    }\n",
       "\n",
       "    .dataframe thead th {\n",
       "        text-align: right;\n",
       "    }\n",
       "</style>\n",
       "<table border=\"1\" class=\"dataframe\">\n",
       "  <thead>\n",
       "    <tr style=\"text-align: right;\">\n",
       "      <th></th>\n",
       "      <th>Car_Name</th>\n",
       "      <th>Year</th>\n",
       "      <th>Selling_Price</th>\n",
       "      <th>Present_Price</th>\n",
       "      <th>Kms_Driven</th>\n",
       "      <th>Fuel_Type</th>\n",
       "      <th>Seller_Type</th>\n",
       "      <th>Transmission</th>\n",
       "      <th>Owner</th>\n",
       "    </tr>\n",
       "  </thead>\n",
       "  <tbody>\n",
       "    <tr>\n",
       "      <th>0</th>\n",
       "      <td>ritz</td>\n",
       "      <td>2014</td>\n",
       "      <td>3.35</td>\n",
       "      <td>5.59</td>\n",
       "      <td>27000</td>\n",
       "      <td>Petrol</td>\n",
       "      <td>Dealer</td>\n",
       "      <td>Manual</td>\n",
       "      <td>0</td>\n",
       "    </tr>\n",
       "    <tr>\n",
       "      <th>1</th>\n",
       "      <td>sx4</td>\n",
       "      <td>2013</td>\n",
       "      <td>4.75</td>\n",
       "      <td>9.54</td>\n",
       "      <td>43000</td>\n",
       "      <td>Diesel</td>\n",
       "      <td>Dealer</td>\n",
       "      <td>Manual</td>\n",
       "      <td>0</td>\n",
       "    </tr>\n",
       "    <tr>\n",
       "      <th>2</th>\n",
       "      <td>ciaz</td>\n",
       "      <td>2017</td>\n",
       "      <td>7.25</td>\n",
       "      <td>9.85</td>\n",
       "      <td>6900</td>\n",
       "      <td>Petrol</td>\n",
       "      <td>Dealer</td>\n",
       "      <td>Manual</td>\n",
       "      <td>0</td>\n",
       "    </tr>\n",
       "    <tr>\n",
       "      <th>3</th>\n",
       "      <td>wagon r</td>\n",
       "      <td>2011</td>\n",
       "      <td>2.85</td>\n",
       "      <td>4.15</td>\n",
       "      <td>5200</td>\n",
       "      <td>Petrol</td>\n",
       "      <td>Dealer</td>\n",
       "      <td>Manual</td>\n",
       "      <td>0</td>\n",
       "    </tr>\n",
       "    <tr>\n",
       "      <th>4</th>\n",
       "      <td>swift</td>\n",
       "      <td>2014</td>\n",
       "      <td>4.60</td>\n",
       "      <td>6.87</td>\n",
       "      <td>42450</td>\n",
       "      <td>Diesel</td>\n",
       "      <td>Dealer</td>\n",
       "      <td>Manual</td>\n",
       "      <td>0</td>\n",
       "    </tr>\n",
       "  </tbody>\n",
       "</table>\n",
       "</div>"
      ],
      "text/plain": [
       "  Car_Name  Year  Selling_Price  Present_Price  Kms_Driven Fuel_Type  \\\n",
       "0     ritz  2014           3.35           5.59       27000    Petrol   \n",
       "1      sx4  2013           4.75           9.54       43000    Diesel   \n",
       "2     ciaz  2017           7.25           9.85        6900    Petrol   \n",
       "3  wagon r  2011           2.85           4.15        5200    Petrol   \n",
       "4    swift  2014           4.60           6.87       42450    Diesel   \n",
       "\n",
       "  Seller_Type Transmission  Owner  \n",
       "0      Dealer       Manual      0  \n",
       "1      Dealer       Manual      0  \n",
       "2      Dealer       Manual      0  \n",
       "3      Dealer       Manual      0  \n",
       "4      Dealer       Manual      0  "
      ]
     },
     "execution_count": 2,
     "metadata": {},
     "output_type": "execute_result"
    }
   ],
   "source": [
    "df  = pd.read_csv(\"car_dataset.csv\")\n",
    "df.head()"
   ]
  },
  {
   "cell_type": "markdown",
   "metadata": {
    "id": "EyXAGsjnbV8_"
   },
   "source": [
    "# Data Preparation"
   ]
  },
  {
   "cell_type": "code",
   "execution_count": 3,
   "metadata": {},
   "outputs": [
    {
     "name": "stdout",
     "output_type": "stream",
     "text": [
      "<class 'pandas.core.frame.DataFrame'>\n",
      "RangeIndex: 301 entries, 0 to 300\n",
      "Data columns (total 9 columns):\n",
      " #   Column         Non-Null Count  Dtype  \n",
      "---  ------         --------------  -----  \n",
      " 0   Car_Name       301 non-null    object \n",
      " 1   Year           301 non-null    int64  \n",
      " 2   Selling_Price  301 non-null    float64\n",
      " 3   Present_Price  301 non-null    float64\n",
      " 4   Kms_Driven     301 non-null    int64  \n",
      " 5   Fuel_Type      301 non-null    object \n",
      " 6   Seller_Type    301 non-null    object \n",
      " 7   Transmission   301 non-null    object \n",
      " 8   Owner          301 non-null    int64  \n",
      "dtypes: float64(2), int64(3), object(4)\n",
      "memory usage: 21.3+ KB\n"
     ]
    }
   ],
   "source": [
    "df.info()"
   ]
  },
  {
   "cell_type": "code",
   "execution_count": 4,
   "metadata": {},
   "outputs": [
    {
     "data": {
      "text/plain": [
       "(301, 9)"
      ]
     },
     "execution_count": 4,
     "metadata": {},
     "output_type": "execute_result"
    }
   ],
   "source": [
    "df.shape"
   ]
  },
  {
   "cell_type": "code",
   "execution_count": 5,
   "metadata": {},
   "outputs": [
    {
     "data": {
      "text/plain": [
       "Car_Name         0\n",
       "Year             0\n",
       "Selling_Price    0\n",
       "Present_Price    0\n",
       "Kms_Driven       0\n",
       "Fuel_Type        0\n",
       "Seller_Type      0\n",
       "Transmission     0\n",
       "Owner            0\n",
       "dtype: int64"
      ]
     },
     "execution_count": 5,
     "metadata": {},
     "output_type": "execute_result"
    }
   ],
   "source": [
    "df.isnull().sum()"
   ]
  },
  {
   "cell_type": "code",
   "execution_count": 6,
   "metadata": {},
   "outputs": [
    {
     "data": {
      "text/html": [
       "<div>\n",
       "<style scoped>\n",
       "    .dataframe tbody tr th:only-of-type {\n",
       "        vertical-align: middle;\n",
       "    }\n",
       "\n",
       "    .dataframe tbody tr th {\n",
       "        vertical-align: top;\n",
       "    }\n",
       "\n",
       "    .dataframe thead th {\n",
       "        text-align: right;\n",
       "    }\n",
       "</style>\n",
       "<table border=\"1\" class=\"dataframe\">\n",
       "  <thead>\n",
       "    <tr style=\"text-align: right;\">\n",
       "      <th></th>\n",
       "      <th>count</th>\n",
       "      <th>mean</th>\n",
       "      <th>std</th>\n",
       "      <th>min</th>\n",
       "      <th>25%</th>\n",
       "      <th>50%</th>\n",
       "      <th>75%</th>\n",
       "      <th>max</th>\n",
       "    </tr>\n",
       "  </thead>\n",
       "  <tbody>\n",
       "    <tr>\n",
       "      <th>Year</th>\n",
       "      <td>301.0</td>\n",
       "      <td>2013.627907</td>\n",
       "      <td>2.891554</td>\n",
       "      <td>2003.00</td>\n",
       "      <td>2012.0</td>\n",
       "      <td>2014.0</td>\n",
       "      <td>2016.0</td>\n",
       "      <td>2018.0</td>\n",
       "    </tr>\n",
       "    <tr>\n",
       "      <th>Selling_Price</th>\n",
       "      <td>301.0</td>\n",
       "      <td>4.661296</td>\n",
       "      <td>5.082812</td>\n",
       "      <td>0.10</td>\n",
       "      <td>0.9</td>\n",
       "      <td>3.6</td>\n",
       "      <td>6.0</td>\n",
       "      <td>35.0</td>\n",
       "    </tr>\n",
       "    <tr>\n",
       "      <th>Present_Price</th>\n",
       "      <td>301.0</td>\n",
       "      <td>7.628472</td>\n",
       "      <td>8.644115</td>\n",
       "      <td>0.32</td>\n",
       "      <td>1.2</td>\n",
       "      <td>6.4</td>\n",
       "      <td>9.9</td>\n",
       "      <td>92.6</td>\n",
       "    </tr>\n",
       "    <tr>\n",
       "      <th>Kms_Driven</th>\n",
       "      <td>301.0</td>\n",
       "      <td>36947.205980</td>\n",
       "      <td>38886.883882</td>\n",
       "      <td>500.00</td>\n",
       "      <td>15000.0</td>\n",
       "      <td>32000.0</td>\n",
       "      <td>48767.0</td>\n",
       "      <td>500000.0</td>\n",
       "    </tr>\n",
       "    <tr>\n",
       "      <th>Owner</th>\n",
       "      <td>301.0</td>\n",
       "      <td>0.043189</td>\n",
       "      <td>0.247915</td>\n",
       "      <td>0.00</td>\n",
       "      <td>0.0</td>\n",
       "      <td>0.0</td>\n",
       "      <td>0.0</td>\n",
       "      <td>3.0</td>\n",
       "    </tr>\n",
       "  </tbody>\n",
       "</table>\n",
       "</div>"
      ],
      "text/plain": [
       "               count          mean           std      min      25%      50%  \\\n",
       "Year           301.0   2013.627907      2.891554  2003.00   2012.0   2014.0   \n",
       "Selling_Price  301.0      4.661296      5.082812     0.10      0.9      3.6   \n",
       "Present_Price  301.0      7.628472      8.644115     0.32      1.2      6.4   \n",
       "Kms_Driven     301.0  36947.205980  38886.883882   500.00  15000.0  32000.0   \n",
       "Owner          301.0      0.043189      0.247915     0.00      0.0      0.0   \n",
       "\n",
       "                   75%       max  \n",
       "Year            2016.0    2018.0  \n",
       "Selling_Price      6.0      35.0  \n",
       "Present_Price      9.9      92.6  \n",
       "Kms_Driven     48767.0  500000.0  \n",
       "Owner              0.0       3.0  "
      ]
     },
     "execution_count": 6,
     "metadata": {},
     "output_type": "execute_result"
    }
   ],
   "source": [
    "df.describe().T"
   ]
  },
  {
   "cell_type": "code",
   "execution_count": 7,
   "metadata": {},
   "outputs": [
    {
     "data": {
      "text/plain": [
       "(4, 2)"
      ]
     },
     "execution_count": 7,
     "metadata": {},
     "output_type": "execute_result"
    }
   ],
   "source": [
    "r = len(df.columns[1:])//2+ 1*(len(df.columns[1:])%2==1)\n",
    "c = 2\n",
    "r,c"
   ]
  },
  {
   "cell_type": "code",
   "execution_count": 8,
   "metadata": {},
   "outputs": [
    {
     "data": {
      "image/png": "[encoded data removed]",
      "text/plain": [
       "<Figure size 1152x864 with 8 Axes>"
      ]
     },
     "metadata": {
      "needs_background": "light"
     },
     "output_type": "display_data"
    }
   ],
   "source": [
    "fig, ax = plt.subplots(nrows=r,ncols=c, figsize=(16,12))\n",
    "fig.subplots_adjust(left=None,    bottom=None,    right=None,    top=None,    wspace=0.5,    hspace=0.5)\n",
    "\n",
    "for i,col in enumerate(df.columns[1:]):\n",
    "    ax[i//2,i%2].hist(df[col])\n",
    "    ax[i//2,i%2].set_title(col)"
   ]
  },
  {
   "cell_type": "code",
   "execution_count": 9,
   "metadata": {},
   "outputs": [
    {
     "data": {
      "image/png": "[encoded data removed]",
      "text/plain": [
       "<Figure size 432x288 with 1 Axes>"
      ]
     },
     "metadata": {
      "needs_background": "light"
     },
     "output_type": "display_data"
    },
    {
     "data": {
      "image/png": "[encoded data removed]",
      "text/plain": [
       "<Figure size 432x288 with 1 Axes>"
      ]
     },
     "metadata": {
      "needs_background": "light"
     },
     "output_type": "display_data"
    },
    {
     "data": {
      "image/png": "[encoded data removed]",
      "text/plain": [
       "<Figure size 432x288 with 1 Axes>"
      ]
     },
     "metadata": {
      "needs_background": "light"
     },
     "output_type": "display_data"
    },
    {
     "data": {
      "image/png": "[encoded data removed]",
      "text/plain": [
       "<Figure size 432x288 with 1 Axes>"
      ]
     },
     "metadata": {
      "needs_background": "light"
     },
     "output_type": "display_data"
    },
    {
     "data": {
      "image/png": "[encoded data removed]",
      "text/plain": [
       "<Figure size 432x288 with 1 Axes>"
      ]
     },
     "metadata": {
      "needs_background": "light"
     },
     "output_type": "display_data"
    },
    {
     "data": {
      "image/png": "[encoded data removed]",
      "text/plain": [
       "<Figure size 432x288 with 1 Axes>"
      ]
     },
     "metadata": {
      "needs_background": "light"
     },
     "output_type": "display_data"
    },
    {
     "data": {
      "image/png": "[encoded data removed]",
      "text/plain": [
       "<Figure size 432x288 with 1 Axes>"
      ]
     },
     "metadata": {
      "needs_background": "light"
     },
     "output_type": "display_data"
    },
    {
     "data": {
      "image/png": "[encoded data removed]",
      "text/plain": [
       "<Figure size 432x288 with 1 Axes>"
      ]
     },
     "metadata": {
      "needs_background": "light"
     },
     "output_type": "display_data"
    }
   ],
   "source": [
    "for i,col in enumerate(df.columns[1:]):\n",
    "    plt.figure(i)\n",
    "    sns.histplot(df[col])"
   ]
  },
  {
   "cell_type": "code",
   "execution_count": 10,
   "metadata": {},
   "outputs": [
    {
     "data": {
      "text/html": [
       "<div>\n",
       "<style scoped>\n",
       "    .dataframe tbody tr th:only-of-type {\n",
       "        vertical-align: middle;\n",
       "    }\n",
       "\n",
       "    .dataframe tbody tr th {\n",
       "        vertical-align: top;\n",
       "    }\n",
       "\n",
       "    .dataframe thead th {\n",
       "        text-align: right;\n",
       "    }\n",
       "</style>\n",
       "<table border=\"1\" class=\"dataframe\">\n",
       "  <thead>\n",
       "    <tr style=\"text-align: right;\">\n",
       "      <th></th>\n",
       "      <th>Year</th>\n",
       "      <th>Selling_Price</th>\n",
       "      <th>Present_Price</th>\n",
       "      <th>Kms_Driven</th>\n",
       "      <th>Owner</th>\n",
       "    </tr>\n",
       "  </thead>\n",
       "  <tbody>\n",
       "    <tr>\n",
       "      <th>Year</th>\n",
       "      <td>1.000000</td>\n",
       "      <td>0.236141</td>\n",
       "      <td>-0.047584</td>\n",
       "      <td>-0.524342</td>\n",
       "      <td>-0.182104</td>\n",
       "    </tr>\n",
       "    <tr>\n",
       "      <th>Selling_Price</th>\n",
       "      <td>0.236141</td>\n",
       "      <td>1.000000</td>\n",
       "      <td>0.878983</td>\n",
       "      <td>0.029187</td>\n",
       "      <td>-0.088344</td>\n",
       "    </tr>\n",
       "    <tr>\n",
       "      <th>Present_Price</th>\n",
       "      <td>-0.047584</td>\n",
       "      <td>0.878983</td>\n",
       "      <td>1.000000</td>\n",
       "      <td>0.203647</td>\n",
       "      <td>0.008057</td>\n",
       "    </tr>\n",
       "    <tr>\n",
       "      <th>Kms_Driven</th>\n",
       "      <td>-0.524342</td>\n",
       "      <td>0.029187</td>\n",
       "      <td>0.203647</td>\n",
       "      <td>1.000000</td>\n",
       "      <td>0.089216</td>\n",
       "    </tr>\n",
       "    <tr>\n",
       "      <th>Owner</th>\n",
       "      <td>-0.182104</td>\n",
       "      <td>-0.088344</td>\n",
       "      <td>0.008057</td>\n",
       "      <td>0.089216</td>\n",
       "      <td>1.000000</td>\n",
       "    </tr>\n",
       "  </tbody>\n",
       "</table>\n",
       "</div>"
      ],
      "text/plain": [
       "                   Year  Selling_Price  Present_Price  Kms_Driven     Owner\n",
       "Year           1.000000       0.236141      -0.047584   -0.524342 -0.182104\n",
       "Selling_Price  0.236141       1.000000       0.878983    0.029187 -0.088344\n",
       "Present_Price -0.047584       0.878983       1.000000    0.203647  0.008057\n",
       "Kms_Driven    -0.524342       0.029187       0.203647    1.000000  0.089216\n",
       "Owner         -0.182104      -0.088344       0.008057    0.089216  1.000000"
      ]
     },
     "execution_count": 10,
     "metadata": {},
     "output_type": "execute_result"
    }
   ],
   "source": [
    "df.corr()"
   ]
  },
  {
   "cell_type": "code",
   "execution_count": 11,
   "metadata": {},
   "outputs": [],
   "source": [
    "plt.rcParams[\"figure.figsize\"] = (9,5)"
   ]
  },
  {
   "cell_type": "code",
   "execution_count": 12,
   "metadata": {},
   "outputs": [
    {
     "data": {
      "image/png": "[encoded data removed]",
      "text/plain": [
       "<Figure size 648x360 with 2 Axes>"
      ]
     },
     "metadata": {
      "needs_background": "light"
     },
     "output_type": "display_data"
    }
   ],
   "source": [
    "sns.heatmap(df.corr(), annot=True);"
   ]
  },
  {
   "cell_type": "code",
   "execution_count": 13,
   "metadata": {
    "id": "zoySlXabbV9B"
   },
   "outputs": [],
   "source": [
    "cols = list(df.iloc[:,1:].select_dtypes(include=\"object\").columns)\n",
    "# df.info()"
   ]
  },
  {
   "cell_type": "code",
   "execution_count": 14,
   "metadata": {},
   "outputs": [],
   "source": [
    "# df[(df.Selling_Price < df.Present_Price)].shape"
   ]
  },
  {
   "cell_type": "code",
   "execution_count": 15,
   "metadata": {},
   "outputs": [],
   "source": [
    "df = pd.get_dummies(df,columns=[\"Fuel_Type\",\"Seller_Type\",\"Transmission\"], drop_first=True,)"
   ]
  },
  {
   "cell_type": "code",
   "execution_count": 16,
   "metadata": {},
   "outputs": [],
   "source": [
    "df[\"car_age\"] = 2018-df[\"Year\"]"
   ]
  },
  {
   "cell_type": "code",
   "execution_count": 17,
   "metadata": {},
   "outputs": [],
   "source": [
    "df.drop([\"Car_Name\",\"Year\"],axis=1,inplace=True)"
   ]
  },
  {
   "cell_type": "code",
   "execution_count": 18,
   "metadata": {},
   "outputs": [
    {
     "data": {
      "text/plain": [
       "(301, 9)"
      ]
     },
     "execution_count": 18,
     "metadata": {},
     "output_type": "execute_result"
    }
   ],
   "source": [
    "df.shape"
   ]
  },
  {
   "cell_type": "code",
   "execution_count": 19,
   "metadata": {},
   "outputs": [
    {
     "data": {
      "image/png": "[encoded data removed]",
      "text/plain": [
       "<Figure size 648x360 with 2 Axes>"
      ]
     },
     "metadata": {
      "needs_background": "light"
     },
     "output_type": "display_data"
    }
   ],
   "source": [
    "sns.heatmap(df.corr(), annot=True);"
   ]
  },
  {
   "cell_type": "code",
   "execution_count": 20,
   "metadata": {},
   "outputs": [],
   "source": [
    "# sns.pairplot(df);"
   ]
  },
  {
   "cell_type": "markdown",
   "metadata": {
    "id": "12PKntblbV9C"
   },
   "source": [
    "# Feature Engineering"
   ]
  },
  {
   "cell_type": "markdown",
   "metadata": {
    "id": "P49wP0afbV9E"
   },
   "source": [
    "<ul>Fuel_Type feature:\n",
    "    <li>Fuel is Petrol if Fuel_type_diesel = 0 ,Fuel_Type_Petrol = 1</li>\n",
    "    <li>Fuel is Diesel if Fuel_type_diesel = 1 ,Fuel_Type_Petrol = 0</li>\n",
    "    <li>Fuel is cng if Fuel_type_diesel = 0 ,Fuel_Type_Petrol = 0</li>\n",
    "   </ul>\n",
    "<ul>Transmission feature:\n",
    "    <li>transmission is manual if Transmission_Manual = 1</li> \n",
    "    <li>transmission is automatic if Transmission_Manual = 0</li></ul>\n",
    "<ul>Seller_Type feature:\n",
    "    <li>Seller_Type is Individual if Seller_Type_Individual = 1 </li> \n",
    "    <li>Seller_Type is dealer if Seller_Type_Individual = 0</li> </ul>\n",
    "    \n"
   ]
  },
  {
   "cell_type": "markdown",
   "metadata": {
    "id": "Pe9yr6oCbV9I"
   },
   "source": [
    "### Features and target variable"
   ]
  },
  {
   "cell_type": "code",
   "execution_count": 21,
   "metadata": {
    "id": "OMnKPR41bV9K"
   },
   "outputs": [],
   "source": [
    "X = df.drop([\"Selling_Price\"],axis=1)\n",
    "y= df[\"Selling_Price\"]\n"
   ]
  },
  {
   "cell_type": "markdown",
   "metadata": {
    "id": "IxhZbAYsbV9L"
   },
   "source": [
    "### Splitting data into training and testing"
   ]
  },
  {
   "cell_type": "code",
   "execution_count": 22,
   "metadata": {
    "id": "aS1EZ-6bbV9N"
   },
   "outputs": [],
   "source": [
    "from sklearn.model_selection import train_test_split"
   ]
  },
  {
   "cell_type": "code",
   "execution_count": 23,
   "metadata": {},
   "outputs": [],
   "source": [
    "X_train,X_test,y_train,y_test = train_test_split(X,y,test_size = .2, random_state=42)\n"
   ]
  },
  {
   "cell_type": "code",
   "execution_count": 24,
   "metadata": {},
   "outputs": [
    {
     "data": {
      "text/plain": [
       "(240, 8)"
      ]
     },
     "execution_count": 24,
     "metadata": {},
     "output_type": "execute_result"
    }
   ],
   "source": [
    "# X_train,X_test,y_train,y_test\n",
    "X_train.shape"
   ]
  },
  {
   "cell_type": "markdown",
   "metadata": {
    "id": "KMJ-3iGxbV9O"
   },
   "source": [
    "##  Model Building (Linear Regression)"
   ]
  },
  {
   "cell_type": "code",
   "execution_count": 25,
   "metadata": {
    "id": "VEOdF27LbV9P"
   },
   "outputs": [],
   "source": [
    "from sklearn.linear_model import LinearRegression"
   ]
  },
  {
   "cell_type": "code",
   "execution_count": null,
   "metadata": {},
   "outputs": [],
   "source": []
  },
  {
   "cell_type": "code",
   "execution_count": 26,
   "metadata": {},
   "outputs": [
    {
     "name": "stderr",
     "output_type": "stream",
     "text": [
      "c:\\Users\\hakan\\anaconda3\\envs\\pythonProject\\lib\\site-packages\\sklearn\\linear_model\\_base.py:141: FutureWarning: 'normalize' was deprecated in version 1.0 and will be removed in 1.2.\n",
      "If you wish to scale the data, use Pipeline with a StandardScaler in a preprocessing stage. To reproduce the previous behavior:\n",
      "\n",
      "from sklearn.pipeline import make_pipeline\n",
      "\n",
      "model = make_pipeline(StandardScaler(with_mean=False), LinearRegression())\n",
      "\n",
      "If you wish to pass a sample_weight parameter, you need to pass it as a fit parameter to each step of the pipeline as follows:\n",
      "\n",
      "kwargs = {s[0] + '__sample_weight': sample_weight for s in model.steps}\n",
      "model.fit(X, y, **kwargs)\n",
      "\n",
      "\n",
      "  warnings.warn(\n"
     ]
    },
    {
     "data": {
      "text/plain": [
       "(0.8886517300804564, 0.8489813024899066)"
      ]
     },
     "execution_count": 26,
     "metadata": {},
     "output_type": "execute_result"
    }
   ],
   "source": [
    "lr_model = LinearRegression(normalize=True) # \n",
    "lr_model.fit(X_train,y_train)\n",
    "\n",
    "lr_model.score(X_train,y_train), lr_model.score(X_test,y_test)"
   ]
  },
  {
   "cell_type": "markdown",
   "metadata": {
    "id": "6T7pkytsbV9Q"
   },
   "source": [
    "# Interpret the model"
   ]
  },
  {
   "cell_type": "code",
   "execution_count": 27,
   "metadata": {},
   "outputs": [
    {
     "data": {
      "text/html": [
       "<div>\n",
       "<style scoped>\n",
       "    .dataframe tbody tr th:only-of-type {\n",
       "        vertical-align: middle;\n",
       "    }\n",
       "\n",
       "    .dataframe tbody tr th {\n",
       "        vertical-align: top;\n",
       "    }\n",
       "\n",
       "    .dataframe thead th {\n",
       "        text-align: right;\n",
       "    }\n",
       "</style>\n",
       "<table border=\"1\" class=\"dataframe\">\n",
       "  <thead>\n",
       "    <tr style=\"text-align: right;\">\n",
       "      <th></th>\n",
       "      <th>Coefs_</th>\n",
       "    </tr>\n",
       "  </thead>\n",
       "  <tbody>\n",
       "    <tr>\n",
       "      <th>Present_Price</th>\n",
       "      <td>0.429153</td>\n",
       "    </tr>\n",
       "    <tr>\n",
       "      <th>Kms_Driven</th>\n",
       "      <td>-0.000006</td>\n",
       "    </tr>\n",
       "    <tr>\n",
       "      <th>Owner</th>\n",
       "      <td>-0.903760</td>\n",
       "    </tr>\n",
       "    <tr>\n",
       "      <th>Fuel_Type_Diesel</th>\n",
       "      <td>2.533273</td>\n",
       "    </tr>\n",
       "    <tr>\n",
       "      <th>Fuel_Type_Petrol</th>\n",
       "      <td>0.738464</td>\n",
       "    </tr>\n",
       "    <tr>\n",
       "      <th>Seller_Type_Individual</th>\n",
       "      <td>-1.190593</td>\n",
       "    </tr>\n",
       "    <tr>\n",
       "      <th>Transmission_Manual</th>\n",
       "      <td>-1.639022</td>\n",
       "    </tr>\n",
       "    <tr>\n",
       "      <th>car_age</th>\n",
       "      <td>-0.353801</td>\n",
       "    </tr>\n",
       "  </tbody>\n",
       "</table>\n",
       "</div>"
      ],
      "text/plain": [
       "                          Coefs_\n",
       "Present_Price           0.429153\n",
       "Kms_Driven             -0.000006\n",
       "Owner                  -0.903760\n",
       "Fuel_Type_Diesel        2.533273\n",
       "Fuel_Type_Petrol        0.738464\n",
       "Seller_Type_Individual -1.190593\n",
       "Transmission_Manual    -1.639022\n",
       "car_age                -0.353801"
      ]
     },
     "execution_count": 27,
     "metadata": {},
     "output_type": "execute_result"
    }
   ],
   "source": [
    "pd.DataFrame(lr_model.coef_,X_train.columns, columns=[\"Coefs_\"])"
   ]
  },
  {
   "cell_type": "code",
   "execution_count": 28,
   "metadata": {},
   "outputs": [
    {
     "name": "stdout",
     "output_type": "stream",
     "text": [
      "Present_Price        \t 0.429\n",
      "Kms_Driven           \t -0.000\n",
      "Owner                \t -0.904\n",
      "Fuel_Type_Diesel     \t 2.533\n",
      "Fuel_Type_Petrol     \t 0.738\n",
      "Seller_Type_Individual \t -1.191\n",
      "Transmission_Manual  \t -1.639\n",
      "car_age              \t -0.354\n"
     ]
    }
   ],
   "source": [
    "for k,v in dict(zip(X_train.columns, lr_model.coef_)).items():\n",
    "    print(f\"{k:<20}\",\"\\t\",f\"{v:.3f}\")"
   ]
  },
  {
   "cell_type": "markdown",
   "metadata": {
    "id": "Xf8mmQdSbV9R"
   },
   "source": [
    "# Model Evaluation"
   ]
  },
  {
   "cell_type": "code",
   "execution_count": 29,
   "metadata": {
    "id": "TS-KF0JtbV9R"
   },
   "outputs": [
    {
     "data": {
      "text/plain": [
       "(0.8886517300804564, 0.8489813024899066)"
      ]
     },
     "execution_count": 29,
     "metadata": {},
     "output_type": "execute_result"
    }
   ],
   "source": [
    "dir(lr_model)\n",
    "lr_model.score(X_train,y_train),lr_model.score(X_test,y_test)"
   ]
  },
  {
   "cell_type": "code",
   "execution_count": 30,
   "metadata": {},
   "outputs": [],
   "source": [
    "y_pred = lr_model.predict(X_test)"
   ]
  },
  {
   "cell_type": "code",
   "execution_count": 31,
   "metadata": {},
   "outputs": [],
   "source": [
    "from sklearn.metrics import r2_score, mean_absolute_error, mean_squared_error"
   ]
  },
  {
   "cell_type": "code",
   "execution_count": 32,
   "metadata": {},
   "outputs": [],
   "source": [
    "def eval_model(y_test,y_pred):\n",
    "    rmse=(mean_squared_error(y_test,y_pred)**.5)\n",
    "    mae=mean_absolute_error(y_test,y_pred)\n",
    "    R2_score=r2_score(y_test,y_pred)\n",
    "    print(f\"rmse:\\t\\t{rmse }\")\n",
    "    print(f\"mae:\\t\\t{mae }\")\n",
    "    print(f\"R2_score:\\t{R2_score }\")\n",
    "#     return rmse, mae, R2_score"
   ]
  },
  {
   "cell_type": "code",
   "execution_count": 33,
   "metadata": {},
   "outputs": [
    {
     "name": "stdout",
     "output_type": "stream",
     "text": [
      "rmse:\t\t1.8651552135513827\n",
      "mae:\t\t1.2162256821297066\n",
      "R2_score:\t0.8489813024899066\n"
     ]
    }
   ],
   "source": [
    "eval_model(y_test,y_pred)"
   ]
  },
  {
   "cell_type": "code",
   "execution_count": 34,
   "metadata": {},
   "outputs": [
    {
     "data": {
      "text/html": [
       "<div>\n",
       "<style scoped>\n",
       "    .dataframe tbody tr th:only-of-type {\n",
       "        vertical-align: middle;\n",
       "    }\n",
       "\n",
       "    .dataframe tbody tr th {\n",
       "        vertical-align: top;\n",
       "    }\n",
       "\n",
       "    .dataframe thead th {\n",
       "        text-align: right;\n",
       "    }\n",
       "</style>\n",
       "<table border=\"1\" class=\"dataframe\">\n",
       "  <thead>\n",
       "    <tr style=\"text-align: right;\">\n",
       "      <th></th>\n",
       "      <th>Actual</th>\n",
       "      <th>Predicted</th>\n",
       "      <th>residuals</th>\n",
       "    </tr>\n",
       "  </thead>\n",
       "  <tbody>\n",
       "    <tr>\n",
       "      <th>177</th>\n",
       "      <td>0.35</td>\n",
       "      <td>2.955343</td>\n",
       "      <td>-2.605343</td>\n",
       "    </tr>\n",
       "    <tr>\n",
       "      <th>289</th>\n",
       "      <td>10.11</td>\n",
       "      <td>8.178939</td>\n",
       "      <td>1.931061</td>\n",
       "    </tr>\n",
       "    <tr>\n",
       "      <th>228</th>\n",
       "      <td>4.95</td>\n",
       "      <td>6.454273</td>\n",
       "      <td>-1.504273</td>\n",
       "    </tr>\n",
       "    <tr>\n",
       "      <th>198</th>\n",
       "      <td>0.15</td>\n",
       "      <td>-1.424175</td>\n",
       "      <td>1.574175</td>\n",
       "    </tr>\n",
       "    <tr>\n",
       "      <th>60</th>\n",
       "      <td>6.95</td>\n",
       "      <td>9.088899</td>\n",
       "      <td>-2.138899</td>\n",
       "    </tr>\n",
       "    <tr>\n",
       "      <th>...</th>\n",
       "      <td>...</td>\n",
       "      <td>...</td>\n",
       "      <td>...</td>\n",
       "    </tr>\n",
       "    <tr>\n",
       "      <th>234</th>\n",
       "      <td>5.50</td>\n",
       "      <td>4.474781</td>\n",
       "      <td>1.025219</td>\n",
       "    </tr>\n",
       "    <tr>\n",
       "      <th>296</th>\n",
       "      <td>9.50</td>\n",
       "      <td>8.973776</td>\n",
       "      <td>0.526224</td>\n",
       "    </tr>\n",
       "    <tr>\n",
       "      <th>281</th>\n",
       "      <td>2.10</td>\n",
       "      <td>1.822946</td>\n",
       "      <td>0.277054</td>\n",
       "    </tr>\n",
       "    <tr>\n",
       "      <th>285</th>\n",
       "      <td>7.40</td>\n",
       "      <td>7.604167</td>\n",
       "      <td>-0.204167</td>\n",
       "    </tr>\n",
       "    <tr>\n",
       "      <th>182</th>\n",
       "      <td>0.30</td>\n",
       "      <td>0.222265</td>\n",
       "      <td>0.077735</td>\n",
       "    </tr>\n",
       "  </tbody>\n",
       "</table>\n",
       "<p>61 rows × 3 columns</p>\n",
       "</div>"
      ],
      "text/plain": [
       "     Actual  Predicted  residuals\n",
       "177    0.35   2.955343  -2.605343\n",
       "289   10.11   8.178939   1.931061\n",
       "228    4.95   6.454273  -1.504273\n",
       "198    0.15  -1.424175   1.574175\n",
       "60     6.95   9.088899  -2.138899\n",
       "..      ...        ...        ...\n",
       "234    5.50   4.474781   1.025219\n",
       "296    9.50   8.973776   0.526224\n",
       "281    2.10   1.822946   0.277054\n",
       "285    7.40   7.604167  -0.204167\n",
       "182    0.30   0.222265   0.077735\n",
       "\n",
       "[61 rows x 3 columns]"
      ]
     },
     "execution_count": 34,
     "metadata": {},
     "output_type": "execute_result"
    }
   ],
   "source": [
    "y_pred = lr_model.predict(X_test)\n",
    "results = pd.DataFrame({'Actual': y_test, 'Predicted': y_pred,\"residuals\":y_test-y_pred})\n",
    "results"
   ]
  },
  {
   "cell_type": "code",
   "execution_count": 35,
   "metadata": {
    "id": "cZTXxOlxbV9T"
   },
   "outputs": [
    {
     "data": {
      "image/png": "[encoded data removed]",
      "text/plain": [
       "<Figure size 360x360 with 1 Axes>"
      ]
     },
     "metadata": {
      "needs_background": "light"
     },
     "output_type": "display_data"
    }
   ],
   "source": [
    "residuals = y_test-y_pred\n",
    "sns.displot(residuals);"
   ]
  },
  {
   "cell_type": "code",
   "execution_count": 36,
   "metadata": {},
   "outputs": [
    {
     "data": {
      "text/plain": [
       "'25 low + 36 high = 61'"
      ]
     },
     "execution_count": 36,
     "metadata": {},
     "output_type": "execute_result"
    }
   ],
   "source": [
    "f\"{len(residuals[residuals>0])} low + {len(residuals[residuals<0])} high = {len(X_test)}\""
   ]
  },
  {
   "cell_type": "code",
   "execution_count": 37,
   "metadata": {},
   "outputs": [
    {
     "data": {
      "image/png": "[encoded data removed]",
      "text/plain": [
       "<Figure size 648x360 with 1 Axes>"
      ]
     },
     "metadata": {
      "needs_background": "light"
     },
     "output_type": "display_data"
    }
   ],
   "source": [
    "plt.scatter(y_test,y_pred)\n",
    "plt.plot([0,30],[0,30],\"r\");"
   ]
  },
  {
   "cell_type": "code",
   "execution_count": 38,
   "metadata": {},
   "outputs": [
    {
     "name": "stderr",
     "output_type": "stream",
     "text": [
      "c:\\Users\\hakan\\anaconda3\\envs\\pythonProject\\lib\\site-packages\\sklearn\\linear_model\\_base.py:141: FutureWarning: 'normalize' was deprecated in version 1.0 and will be removed in 1.2.\n",
      "If you wish to scale the data, use Pipeline with a StandardScaler in a preprocessing stage. To reproduce the previous behavior:\n",
      "\n",
      "from sklearn.pipeline import make_pipeline\n",
      "\n",
      "model = make_pipeline(StandardScaler(with_mean=False), LinearRegression())\n",
      "\n",
      "If you wish to pass a sample_weight parameter, you need to pass it as a fit parameter to each step of the pipeline as follows:\n",
      "\n",
      "kwargs = {s[0] + '__sample_weight': sample_weight for s in model.steps}\n",
      "model.fit(X, y, **kwargs)\n",
      "\n",
      "\n",
      "  warnings.warn(\n"
     ]
    },
    {
     "data": {
      "image/png": "[encoded data removed]",
      "text/plain": [
       "<Figure size 576x396 with 1 Axes>"
      ]
     },
     "metadata": {},
     "output_type": "display_data"
    },
    {
     "data": {
      "text/plain": [
       "<AxesSubplot:title={'center':'Prediction Error for LinearRegression'}, xlabel='$y$', ylabel='$\\\\hat{y}$'>"
      ]
     },
     "execution_count": 38,
     "metadata": {},
     "output_type": "execute_result"
    }
   ],
   "source": [
    "from yellowbrick.regressor import PredictionError\n",
    "# Instantiate the linear model and visualizer\n",
    "lr_model= LinearRegression(normalize=True)\n",
    "visualizer = PredictionError(lr_model)\n",
    "visualizer.fit(X_train, y_train)  # Fit the training data to the visualizer\n",
    "visualizer.score(X_test, y_test)  # Evaluate the model on the test data\n",
    "visualizer.show() "
   ]
  },
  {
   "cell_type": "markdown",
   "metadata": {
    "id": "ngfv0b5vbnO6"
   },
   "source": [
    "# Regularization"
   ]
  },
  {
   "cell_type": "markdown",
   "metadata": {
    "id": "PbnRHneJbV9T"
   },
   "source": [
    "# Ridge"
   ]
  },
  {
   "cell_type": "code",
   "execution_count": 39,
   "metadata": {
    "id": "sLbDL68AbV9V"
   },
   "outputs": [],
   "source": [
    "from sklearn.linear_model import Ridge, RidgeCV\n",
    "from sklearn.preprocessing import MinMaxScaler"
   ]
  },
  {
   "cell_type": "code",
   "execution_count": 40,
   "metadata": {},
   "outputs": [],
   "source": [
    "scaler = MinMaxScaler()\n",
    "scaler.fit(X_train)\n",
    "X_train_scaled = scaler.transform(X_train)\n",
    "X_test_scaled = scaler.transform(X_test)\n",
    "# X_train_scaled\n"
   ]
  },
  {
   "cell_type": "code",
   "execution_count": 41,
   "metadata": {},
   "outputs": [
    {
     "data": {
      "text/plain": [
       "Ridge()"
      ]
     },
     "execution_count": 41,
     "metadata": {},
     "output_type": "execute_result"
    }
   ],
   "source": [
    "ridge_model = Ridge()\n",
    "ridge_model.fit(X_train_scaled,y_train)"
   ]
  },
  {
   "cell_type": "code",
   "execution_count": 42,
   "metadata": {},
   "outputs": [
    {
     "data": {
      "text/plain": [
       "(0.8279940941365418, 0.7837567859000829)"
      ]
     },
     "execution_count": 42,
     "metadata": {},
     "output_type": "execute_result"
    }
   ],
   "source": [
    "ridge_model.score(X_train_scaled,y_train),ridge_model.score(X_test_scaled,y_test)"
   ]
  },
  {
   "cell_type": "code",
   "execution_count": 43,
   "metadata": {},
   "outputs": [],
   "source": [
    "y_pred = ridge_model.predict(X_test_scaled)"
   ]
  },
  {
   "cell_type": "code",
   "execution_count": 44,
   "metadata": {},
   "outputs": [
    {
     "name": "stdout",
     "output_type": "stream",
     "text": [
      "rmse:\t\t2.231880112223293\n",
      "mae:\t\t1.3887587019899525\n",
      "R2_score:\t0.7837567859000829\n"
     ]
    }
   ],
   "source": [
    "eval_model(y_test,y_pred)"
   ]
  },
  {
   "cell_type": "code",
   "execution_count": 45,
   "metadata": {},
   "outputs": [
    {
     "data": {
      "text/plain": [
       "1.0"
      ]
     },
     "execution_count": 45,
     "metadata": {},
     "output_type": "execute_result"
    }
   ],
   "source": [
    "ridge_model.alpha"
   ]
  },
  {
   "cell_type": "code",
   "execution_count": 46,
   "metadata": {
    "scrolled": true
   },
   "outputs": [
    {
     "data": {
      "text/plain": [
       "0.1"
      ]
     },
     "execution_count": 46,
     "metadata": {},
     "output_type": "execute_result"
    }
   ],
   "source": [
    "ridgecv_model = RidgeCV(alphas=np.linspace(0.1, 20, 100),cv=10)\n",
    "\n",
    "ridgecv_model.fit(X_train_scaled,y_train)\n",
    "ridgecv_model.alpha_"
   ]
  },
  {
   "cell_type": "code",
   "execution_count": 47,
   "metadata": {},
   "outputs": [
    {
     "data": {
      "text/plain": [
       "0.1272727272727273"
      ]
     },
     "execution_count": 47,
     "metadata": {},
     "output_type": "execute_result"
    }
   ],
   "source": [
    "ridgecv_model = RidgeCV(alphas=np.linspace(0.1, 1, 100),cv=10)\n",
    "\n",
    "ridgecv_model.fit(X_train_scaled,y_train)\n",
    "ridgecv_model.alpha_"
   ]
  },
  {
   "cell_type": "code",
   "execution_count": 48,
   "metadata": {},
   "outputs": [
    {
     "data": {
      "text/plain": [
       "0.7969708785311618"
      ]
     },
     "execution_count": 48,
     "metadata": {},
     "output_type": "execute_result"
    }
   ],
   "source": [
    "ridgecv_model.best_score_"
   ]
  },
  {
   "cell_type": "code",
   "execution_count": 49,
   "metadata": {},
   "outputs": [],
   "source": [
    "# y_pred_rcv = ridgecv_model.predict(X_test_scaled)\n",
    "y_pred = ridgecv_model.predict(X_test_scaled)"
   ]
  },
  {
   "cell_type": "code",
   "execution_count": 50,
   "metadata": {},
   "outputs": [
    {
     "name": "stdout",
     "output_type": "stream",
     "text": [
      "rmse:\t\t1.908604406586769\n",
      "mae:\t\t1.2352617252082025\n",
      "R2_score:\t0.8418633233450707\n"
     ]
    }
   ],
   "source": [
    "eval_model(y_test,y_pred) #, ridgecv_model.score(X_train_scaled,y_train),ridgecv_model.score(X_test_scaled,y_pred_rcv)"
   ]
  },
  {
   "cell_type": "code",
   "execution_count": 51,
   "metadata": {},
   "outputs": [
    {
     "data": {
      "image/png": "[encoded data removed]",
      "text/plain": [
       "<Figure size 576x396 with 1 Axes>"
      ]
     },
     "metadata": {},
     "output_type": "display_data"
    },
    {
     "data": {
      "text/plain": [
       "<AxesSubplot:title={'center':'Ridge Alpha Error'}, xlabel='alpha', ylabel='error (or score)'>"
      ]
     },
     "execution_count": 51,
     "metadata": {},
     "output_type": "execute_result"
    }
   ],
   "source": [
    "from yellowbrick.regressor import ManualAlphaSelection\n",
    "# Create a list of alphas to cross-validate against\n",
    "alpha_space = np.linspace(0.01, 10, 100)\n",
    "# Instantiate the visualizer\n",
    "visualizer = ManualAlphaSelection(\n",
    "    Ridge(),\n",
    "    alphas=np.linspace(0.01, 1, 100),\n",
    "    cv=10\n",
    ")\n",
    "visualizer.fit(X_train_scaled, y_train)\n",
    "visualizer.show()"
   ]
  },
  {
   "cell_type": "code",
   "execution_count": 52,
   "metadata": {},
   "outputs": [
    {
     "data": {
      "image/png": "[encoded data removed]",
      "text/plain": [
       "<Figure size 576x396 with 1 Axes>"
      ]
     },
     "metadata": {},
     "output_type": "display_data"
    },
    {
     "data": {
      "text/plain": [
       "<AxesSubplot:title={'center':'Feature Importances of 8 Features using Ridge'}, xlabel='coefficient value'>"
      ]
     },
     "execution_count": 52,
     "metadata": {},
     "output_type": "execute_result"
    }
   ],
   "source": [
    "from yellowbrick.model_selection import FeatureImportances\n",
    "\n",
    "model = Ridge(alpha=.18)\n",
    "viz = FeatureImportances(model,labels=list(X.columns),relative=False)\n",
    "viz.fit(X_train_scaled,y_train)\n",
    "viz.show()"
   ]
  },
  {
   "cell_type": "markdown",
   "metadata": {
    "id": "B_T57TpNbV9V"
   },
   "source": [
    "# Lasso"
   ]
  },
  {
   "cell_type": "code",
   "execution_count": 53,
   "metadata": {
    "id": "MBAiMxBAbV9W"
   },
   "outputs": [],
   "source": [
    "from sklearn.linear_model import Lasso\n",
    "from sklearn.linear_model import LassoCV"
   ]
  },
  {
   "cell_type": "code",
   "execution_count": 54,
   "metadata": {},
   "outputs": [
    {
     "name": "stdout",
     "output_type": "stream",
     "text": [
      "rmse:\t\t2.1541656240470655\n",
      "mae:\t\t1.4714179283504274\n",
      "R2_score:\t0.7985538621024054\n"
     ]
    },
    {
     "data": {
      "text/plain": [
       "(None, 0.8480306714510463, 0.7985538621024054)"
      ]
     },
     "execution_count": 54,
     "metadata": {},
     "output_type": "execute_result"
    }
   ],
   "source": [
    "lasso_model = Lasso().fit(X_train,y_train)\n",
    "y_pred = lasso_model.predict(X_test)\n",
    "eval_model(y_test,y_pred), lasso_model.score(X_train,y_train), lasso_model.score(X_test,y_test)"
   ]
  },
  {
   "cell_type": "code",
   "execution_count": 55,
   "metadata": {},
   "outputs": [
    {
     "name": "stdout",
     "output_type": "stream",
     "text": [
      "rmse:\t\t1.8837279666820945\n",
      "mae:\t\t1.2225528660113418\n",
      "R2_score:\t0.8459587144691413\n"
     ]
    },
    {
     "data": {
      "text/plain": [
       "(None, 0.8867701401019937, 0.8459587144691413)"
      ]
     },
     "execution_count": 55,
     "metadata": {},
     "output_type": "execute_result"
    }
   ],
   "source": [
    "lassocv_model =LassoCV(alphas=np.linspace(0.01,10,100),cv=10).fit(X_train_scaled,y_train)\n",
    "y_pred = lassocv_model.predict(X_test_scaled)\n",
    "eval_model(y_test,y_pred), lassocv_model.score(X_train_scaled,y_train), lassocv_model.score(X_test_scaled,y_test)"
   ]
  },
  {
   "cell_type": "code",
   "execution_count": 56,
   "metadata": {},
   "outputs": [
    {
     "data": {
      "text/plain": [
       "0.01"
      ]
     },
     "execution_count": 56,
     "metadata": {},
     "output_type": "execute_result"
    }
   ],
   "source": [
    "lassocv_model.alpha_"
   ]
  },
  {
   "cell_type": "code",
   "execution_count": 57,
   "metadata": {},
   "outputs": [
    {
     "name": "stdout",
     "output_type": "stream",
     "text": [
      "rmse:\t\t1.9513438391787516\n",
      "mae:\t\t1.2361910646518275\n",
      "R2_score:\t0.8347017079012288\n"
     ]
    },
    {
     "data": {
      "text/plain": [
       "(None, 0.8788656879742925, 0.8347017079012288)"
      ]
     },
     "execution_count": 57,
     "metadata": {},
     "output_type": "execute_result"
    }
   ],
   "source": [
    "lassocv_model =LassoCV(alphas=np.linspace(0.001,1,100),cv=10).fit(X_train_scaled,y_train)\n",
    "y_pred = lassocv_model.predict(X_test_scaled)\n",
    "eval_model(y_test,y_pred), lassocv_model.score(X_train_scaled,y_train), lassocv_model.score(X_test_scaled,y_test)"
   ]
  },
  {
   "cell_type": "code",
   "execution_count": 58,
   "metadata": {},
   "outputs": [
    {
     "data": {
      "text/plain": [
       "0.03127272727272727"
      ]
     },
     "execution_count": 58,
     "metadata": {},
     "output_type": "execute_result"
    }
   ],
   "source": [
    "lassocv_model.alpha_"
   ]
  },
  {
   "cell_type": "code",
   "execution_count": 59,
   "metadata": {},
   "outputs": [
    {
     "data": {
      "text/plain": [
       "(0.8788656879742925, 0.8347017079012288)"
      ]
     },
     "execution_count": 59,
     "metadata": {},
     "output_type": "execute_result"
    }
   ],
   "source": [
    "lasso_model = Lasso(alpha=.03127272727272727).fit(X_train_scaled,y_train)\n",
    "y_pred = lasso_model.predict(X_test_scaled)\n",
    "# eval_model(y_test,y_pred), \n",
    "lasso_model.score(X_train_scaled,y_train), lasso_model.score(X_test_scaled,y_test)"
   ]
  },
  {
   "cell_type": "code",
   "execution_count": 60,
   "metadata": {},
   "outputs": [
    {
     "data": {
      "image/png": "[encoded data removed]",
      "text/plain": [
       "<Figure size 576x396 with 1 Axes>"
      ]
     },
     "metadata": {},
     "output_type": "display_data"
    },
    {
     "data": {
      "text/plain": [
       "<AxesSubplot:title={'center':'LassoCV Alpha Error'}, xlabel='alpha', ylabel='error (or score)'>"
      ]
     },
     "execution_count": 60,
     "metadata": {},
     "output_type": "execute_result"
    }
   ],
   "source": [
    "from yellowbrick.regressor import AlphaSelection\n",
    "\n",
    "# Create a list of alphas to cross-validate against\n",
    "alphas = np.linspace(0.001,.1,100)\n",
    "\n",
    "# Instantiate the linear model and visualizer\n",
    "model = LassoCV(alphas=alphas)\n",
    "visualizer = AlphaSelection(model)\n",
    "visualizer.fit(X_train_scaled, y_train)\n",
    "visualizer.show()"
   ]
  },
  {
   "cell_type": "code",
   "execution_count": 61,
   "metadata": {},
   "outputs": [
    {
     "data": {
      "text/plain": [
       "{'train': [2.94465786122339,\n",
       "  2.9474539280695997,\n",
       "  2.9521012005205987,\n",
       "  2.955421165849077,\n",
       "  2.959497501299516,\n",
       "  2.9644795075903327,\n",
       "  2.9703671847215274,\n",
       "  2.9771605326931003,\n",
       "  2.984859551505052,\n",
       "  2.993464241157381,\n",
       "  3.0029746016500893,\n",
       "  3.0133906329831754,\n",
       "  3.0247123351566416,\n",
       "  3.0369397081704834,\n",
       "  3.050072752024705,\n",
       "  3.064111466719304,\n",
       "  3.075485841150288,\n",
       "  3.0854513981890594,\n",
       "  3.095986328706745,\n",
       "  3.107090794574206,\n",
       "  3.1174560258783575,\n",
       "  3.1242617156754395,\n",
       "  3.1313831128284417,\n",
       "  3.1388209006228087,\n",
       "  3.1465752191556997,\n",
       "  3.1546460402122745,\n",
       "  3.163033212946085,\n",
       "  3.1717369011421335,\n",
       "  3.180757104800421,\n",
       "  3.190093823920946,\n",
       "  3.19974705850371,\n",
       "  3.209716808548713,\n",
       "  3.2200030740559535,\n",
       "  3.2306058550254324,\n",
       "  3.241525151457151,\n",
       "  3.2527609633511068,\n",
       "  3.264313290707301,\n",
       "  3.2761821335257335,\n",
       "  3.2883674918064045,\n",
       "  3.3008693655493144,\n",
       "  3.313687754754462,\n",
       "  3.3268226594218477,\n",
       "  3.340274079551473,\n",
       "  3.354042015143336,\n",
       "  3.368126466197437,\n",
       "  3.382527432713777,\n",
       "  3.397244914692356,\n",
       "  3.4122789121331722,\n",
       "  3.4276292443095526,\n",
       "  3.443295791956502,\n",
       "  3.4592788359836635,\n",
       "  3.4755783763910375,\n",
       "  3.4921944131786233,\n",
       "  3.5091269463464214,\n",
       "  3.5263759758944313,\n",
       "  3.5439415018226526,\n",
       "  3.5618235241310865,\n",
       "  3.5800220428197322,\n",
       "  3.598537057888588,\n",
       "  3.617368569337659,\n",
       "  3.6365165771669394,\n",
       "  3.655981081376433,\n",
       "  3.6757620819661394,\n",
       "  3.695859578936056,\n",
       "  3.716273572286185,\n",
       "  3.737004062016529,\n",
       "  3.7580510481270806,\n",
       "  3.7794145306178453,\n",
       "  3.801094509488823,\n",
       "  3.823090984740013,\n",
       "  3.8454039563714137,\n",
       "  3.8680334243830274,\n",
       "  3.8909793887748525,\n",
       "  3.9142418495468894,\n",
       "  3.937820806699139,\n",
       "  3.9617162602315994,\n",
       "  3.9859282101442735,\n",
       "  4.010456656437158,\n",
       "  4.035301599110254,\n",
       "  4.060463038163564,\n",
       "  4.0859409735970855,\n",
       "  4.111735405410818,\n",
       "  4.137846333604762,\n",
       "  4.164273758178919,\n",
       "  4.19101767913329,\n",
       "  4.21807809646787,\n",
       "  4.245455010182663,\n",
       "  4.273148420277668,\n",
       "  4.301158326752885,\n",
       "  4.329484729608314,\n",
       "  4.358127628843954,\n",
       "  4.387087024459807,\n",
       "  4.41636291645587,\n",
       "  4.44595530483215,\n",
       "  4.475864189588638,\n",
       "  4.506089570725339,\n",
       "  4.53663144824225,\n",
       "  4.567489822139377,\n",
       "  4.598664692416714,\n",
       "  4.630156059074261],\n",
       " 'test': [3.4823741321092645,\n",
       "  3.4863043156313798,\n",
       "  3.490588571928053,\n",
       "  3.4977279601985183,\n",
       "  3.5053841760650664,\n",
       "  3.5133581117357777,\n",
       "  3.521649767210654,\n",
       "  3.530259142489692,\n",
       "  3.539186237572893,\n",
       "  3.5484310524602587,\n",
       "  3.5579935871517865,\n",
       "  3.567873841647479,\n",
       "  3.578071815947334,\n",
       "  3.588587510051351,\n",
       "  3.599420923959535,\n",
       "  3.610572057671879,\n",
       "  3.619859635777336,\n",
       "  3.6281477748377067,\n",
       "  3.6366901644200444,\n",
       "  3.6454870801048993,\n",
       "  3.6557072215351947,\n",
       "  3.66965929302903,\n",
       "  3.68379304983803,\n",
       "  3.6981098276696556,\n",
       "  3.7126098662484432,\n",
       "  3.7272931143367374,\n",
       "  3.742159310438445,\n",
       "  3.7572087613275107,\n",
       "  3.7724414670039357,\n",
       "  3.787857427467722,\n",
       "  3.803456642718867,\n",
       "  3.819239112757372,\n",
       "  3.8352048375832357,\n",
       "  3.85135381719646,\n",
       "  3.867686051597043,\n",
       "  3.884201540784986,\n",
       "  3.900900284760287,\n",
       "  3.917782283522949,\n",
       "  3.934847537072971,\n",
       "  3.9520960454103506,\n",
       "  3.969527808535092,\n",
       "  3.9871428264471898,\n",
       "  4.00494109914665,\n",
       "  4.022922626633468,\n",
       "  4.041087408907646,\n",
       "  4.059435445969183,\n",
       "  4.077966737818081,\n",
       "  4.096681284454336,\n",
       "  4.115578890622433,\n",
       "  4.134659443176795,\n",
       "  4.153923242400862,\n",
       "  4.173370288294628,\n",
       "  4.193000580858096,\n",
       "  4.212814120091266,\n",
       "  4.232810905994138,\n",
       "  4.252990938566709,\n",
       "  4.2733542178089845,\n",
       "  4.293900743720958,\n",
       "  4.314630516302635,\n",
       "  4.335543535554014,\n",
       "  4.356639801475095,\n",
       "  4.377919314065875,\n",
       "  4.399382073326359,\n",
       "  4.421028079256542,\n",
       "  4.442857331856428,\n",
       "  4.464869831126014,\n",
       "  4.4870655770653025,\n",
       "  4.50944456967429,\n",
       "  4.532006808952982,\n",
       "  4.554752294901374,\n",
       "  4.577681027519468,\n",
       "  4.6007930068072636,\n",
       "  4.624088232764759,\n",
       "  4.647566705391958,\n",
       "  4.671228424688857,\n",
       "  4.695073390655458,\n",
       "  4.719101603291759,\n",
       "  4.743313062597763,\n",
       "  4.7677077685734695,\n",
       "  4.792285721218875,\n",
       "  4.817046920533984,\n",
       "  4.841991366518791,\n",
       "  4.8671190591733025,\n",
       "  4.892429998497513,\n",
       "  4.917924184491429,\n",
       "  4.943601617155044,\n",
       "  4.96946229648836,\n",
       "  4.995506222491376,\n",
       "  5.021733395164096,\n",
       "  5.048143814506516,\n",
       "  5.074737480518637,\n",
       "  5.101514393200462,\n",
       "  5.128474552551984,\n",
       "  5.155617958573213,\n",
       "  5.18294461126414,\n",
       "  5.210454510624769,\n",
       "  5.238147656655099,\n",
       "  5.266024049355131,\n",
       "  5.2940836887248635,\n",
       "  5.322326574764299]}"
      ]
     },
     "execution_count": 61,
     "metadata": {},
     "output_type": "execute_result"
    }
   ],
   "source": [
    "errors = {\"train\":[],\"test\":[]}\n",
    "for alpha in np.linspace(0.001,.1,100):\n",
    "    model = Lasso(alpha=alpha).fit(X_train_scaled, y_train)\n",
    "    y_pred = model.predict(X_train_scaled)\n",
    "    error = mean_squared_error(y_train,y_pred)\n",
    "    errors[\"train\"].append(error)\n",
    "    \n",
    "    y_pred = model.predict(X_test_scaled)\n",
    "    error = mean_squared_error(y_test,y_pred)\n",
    "    errors[\"test\"].append(error)\n",
    "errors    "
   ]
  },
  {
   "cell_type": "code",
   "execution_count": 62,
   "metadata": {},
   "outputs": [
    {
     "data": {
      "image/png": "[encoded data removed]",
      "text/plain": [
       "<Figure size 576x396 with 1 Axes>"
      ]
     },
     "metadata": {},
     "output_type": "display_data"
    }
   ],
   "source": [
    "plt.plot(np.linspace(0.001,.1,100), errors[\"train\"],label=\"train\")\n",
    "plt.plot(np.linspace(0.001,.1,100), errors[\"test\"],label=\"test\")\n",
    "plt.legend(fontsize=12)\n",
    "plt.show()"
   ]
  },
  {
   "cell_type": "code",
   "execution_count": 63,
   "metadata": {},
   "outputs": [
    {
     "data": {
      "text/plain": [
       "(100, 100)"
      ]
     },
     "execution_count": 63,
     "metadata": {},
     "output_type": "execute_result"
    }
   ],
   "source": [
    " len(errors[\"train\"]) , len(errors[\"test\"])"
   ]
  },
  {
   "cell_type": "markdown",
   "metadata": {
    "id": "26QEobIEbV9X"
   },
   "source": [
    "## Elastic-Net "
   ]
  },
  {
   "cell_type": "code",
   "execution_count": 64,
   "metadata": {},
   "outputs": [],
   "source": [
    "from sklearn.linear_model import ElasticNet\n",
    "from sklearn.linear_model import ElasticNetCV"
   ]
  },
  {
   "cell_type": "code",
   "execution_count": 65,
   "metadata": {},
   "outputs": [
    {
     "name": "stdout",
     "output_type": "stream",
     "text": [
      "rmse:\t\t2.098730303104542\n",
      "mae:\t\t1.4234255674689695\n",
      "R2_score:\t0.8087884906376239\n"
     ]
    }
   ],
   "source": [
    "el_model = ElasticNet().fit(X_train,y_train)\n",
    "y_pred = el_model.predict(X_test)\n",
    "eval_model(y_test,y_pred)"
   ]
  },
  {
   "cell_type": "code",
   "execution_count": 66,
   "metadata": {},
   "outputs": [
    {
     "data": {
      "text/plain": [
       "(0.8515544987549839, 0.8087884906376239)"
      ]
     },
     "execution_count": 66,
     "metadata": {},
     "output_type": "execute_result"
    }
   ],
   "source": [
    "el_model.score(X_train,y_train),el_model.score(X_test,y_test)"
   ]
  },
  {
   "cell_type": "code",
   "execution_count": 67,
   "metadata": {},
   "outputs": [
    {
     "data": {
      "text/plain": [
       "{'alpha': 1.0,\n",
       " 'copy_X': True,\n",
       " 'fit_intercept': True,\n",
       " 'l1_ratio': 0.5,\n",
       " 'max_iter': 1000,\n",
       " 'normalize': 'deprecated',\n",
       " 'positive': False,\n",
       " 'precompute': False,\n",
       " 'random_state': None,\n",
       " 'selection': 'cyclic',\n",
       " 'tol': 0.0001,\n",
       " 'warm_start': False}"
      ]
     },
     "execution_count": 67,
     "metadata": {},
     "output_type": "execute_result"
    }
   ],
   "source": [
    "el_model.get_params()"
   ]
  },
  {
   "cell_type": "code",
   "execution_count": 68,
   "metadata": {},
   "outputs": [
    {
     "data": {
      "text/plain": [
       "(0.8886301933636378,\n",
       " 0.8492676810044625,\n",
       " {'alphas': array([0.001     , 0.01109091, 0.02118182, 0.03127273, 0.04136364,\n",
       "         0.05145455, 0.06154545, 0.07163636, 0.08172727, 0.09181818,\n",
       "         0.10190909, 0.112     , 0.12209091, 0.13218182, 0.14227273,\n",
       "         0.15236364, 0.16245455, 0.17254545, 0.18263636, 0.19272727,\n",
       "         0.20281818, 0.21290909, 0.223     , 0.23309091, 0.24318182,\n",
       "         0.25327273, 0.26336364, 0.27345455, 0.28354545, 0.29363636,\n",
       "         0.30372727, 0.31381818, 0.32390909, 0.334     , 0.34409091,\n",
       "         0.35418182, 0.36427273, 0.37436364, 0.38445455, 0.39454545,\n",
       "         0.40463636, 0.41472727, 0.42481818, 0.43490909, 0.445     ,\n",
       "         0.45509091, 0.46518182, 0.47527273, 0.48536364, 0.49545455,\n",
       "         0.50554545, 0.51563636, 0.52572727, 0.53581818, 0.54590909,\n",
       "         0.556     , 0.56609091, 0.57618182, 0.58627273, 0.59636364,\n",
       "         0.60645455, 0.61654545, 0.62663636, 0.63672727, 0.64681818,\n",
       "         0.65690909, 0.667     , 0.67709091, 0.68718182, 0.69727273,\n",
       "         0.70736364, 0.71745455, 0.72754545, 0.73763636, 0.74772727,\n",
       "         0.75781818, 0.76790909, 0.778     , 0.78809091, 0.79818182,\n",
       "         0.80827273, 0.81836364, 0.82845455, 0.83854545, 0.84863636,\n",
       "         0.85872727, 0.86881818, 0.87890909, 0.889     , 0.89909091,\n",
       "         0.90918182, 0.91927273, 0.92936364, 0.93945455, 0.94954545,\n",
       "         0.95963636, 0.96972727, 0.97981818, 0.98990909, 1.        ]),\n",
       "  'copy_X': True,\n",
       "  'cv': None,\n",
       "  'eps': 0.001,\n",
       "  'fit_intercept': True,\n",
       "  'l1_ratio': [0.1, 0.5, 0.7, 0.9, 0.95, 0.99, 1],\n",
       "  'max_iter': 1000,\n",
       "  'n_alphas': 100,\n",
       "  'n_jobs': None,\n",
       "  'normalize': 'deprecated',\n",
       "  'positive': False,\n",
       "  'precompute': 'auto',\n",
       "  'random_state': None,\n",
       "  'selection': 'cyclic',\n",
       "  'tol': 0.0001,\n",
       "  'verbose': 0})"
      ]
     },
     "execution_count": 68,
     "metadata": {},
     "output_type": "execute_result"
    }
   ],
   "source": [
    "elcv_model = ElasticNetCV(alphas = np.linspace(.001,1,100), l1_ratio = [.1, .5, .7, .9, .95, .99, 1]).fit(X_train,y_train)\n",
    "\n",
    "y_pred = elcv_model.predict(X_train)\n",
    "\n",
    "elcv_model.score(X_train,y_train),elcv_model.score(X_test,y_test),elcv_model.get_params()"
   ]
  },
  {
   "cell_type": "code",
   "execution_count": 69,
   "metadata": {},
   "outputs": [
    {
     "data": {
      "text/plain": [
       "{'alphas': array([0.001     , 0.01109091, 0.02118182, 0.03127273, 0.04136364,\n",
       "        0.05145455, 0.06154545, 0.07163636, 0.08172727, 0.09181818,\n",
       "        0.10190909, 0.112     , 0.12209091, 0.13218182, 0.14227273,\n",
       "        0.15236364, 0.16245455, 0.17254545, 0.18263636, 0.19272727,\n",
       "        0.20281818, 0.21290909, 0.223     , 0.23309091, 0.24318182,\n",
       "        0.25327273, 0.26336364, 0.27345455, 0.28354545, 0.29363636,\n",
       "        0.30372727, 0.31381818, 0.32390909, 0.334     , 0.34409091,\n",
       "        0.35418182, 0.36427273, 0.37436364, 0.38445455, 0.39454545,\n",
       "        0.40463636, 0.41472727, 0.42481818, 0.43490909, 0.445     ,\n",
       "        0.45509091, 0.46518182, 0.47527273, 0.48536364, 0.49545455,\n",
       "        0.50554545, 0.51563636, 0.52572727, 0.53581818, 0.54590909,\n",
       "        0.556     , 0.56609091, 0.57618182, 0.58627273, 0.59636364,\n",
       "        0.60645455, 0.61654545, 0.62663636, 0.63672727, 0.64681818,\n",
       "        0.65690909, 0.667     , 0.67709091, 0.68718182, 0.69727273,\n",
       "        0.70736364, 0.71745455, 0.72754545, 0.73763636, 0.74772727,\n",
       "        0.75781818, 0.76790909, 0.778     , 0.78809091, 0.79818182,\n",
       "        0.80827273, 0.81836364, 0.82845455, 0.83854545, 0.84863636,\n",
       "        0.85872727, 0.86881818, 0.87890909, 0.889     , 0.89909091,\n",
       "        0.90918182, 0.91927273, 0.92936364, 0.93945455, 0.94954545,\n",
       "        0.95963636, 0.96972727, 0.97981818, 0.98990909, 1.        ]),\n",
       " 'copy_X': True,\n",
       " 'cv': None,\n",
       " 'eps': 0.001,\n",
       " 'fit_intercept': True,\n",
       " 'l1_ratio': [0.1, 0.5, 0.7, 0.9, 0.95, 0.99, 1],\n",
       " 'max_iter': 1000,\n",
       " 'n_alphas': 100,\n",
       " 'n_jobs': None,\n",
       " 'normalize': 'deprecated',\n",
       " 'positive': False,\n",
       " 'precompute': 'auto',\n",
       " 'random_state': None,\n",
       " 'selection': 'cyclic',\n",
       " 'tol': 0.0001,\n",
       " 'verbose': 0}"
      ]
     },
     "execution_count": 69,
     "metadata": {},
     "output_type": "execute_result"
    }
   ],
   "source": [
    "# dir(elcv_model)\n",
    "elcv_model.get_params()"
   ]
  },
  {
   "cell_type": "code",
   "execution_count": 70,
   "metadata": {},
   "outputs": [
    {
     "data": {
      "text/plain": [
       "[0.1, 0.5, 0.7, 0.9, 0.95, 0.99, 1]"
      ]
     },
     "execution_count": 70,
     "metadata": {},
     "output_type": "execute_result"
    }
   ],
   "source": [
    "elcv_model.l1_ratio"
   ]
  },
  {
   "cell_type": "code",
   "execution_count": 71,
   "metadata": {},
   "outputs": [],
   "source": [
    "from sklearn.model_selection import GridSearchCV"
   ]
  },
  {
   "cell_type": "code",
   "execution_count": 72,
   "metadata": {},
   "outputs": [
    {
     "data": {
      "text/plain": [
       "GridSearchCV(estimator=ElasticNet(),\n",
       "             param_grid={'alpha': array([ 10.        ,  10.23531022,  10.47615753,  10.72267222,\n",
       "        10.97498765,  11.23324033,  11.49756995,  11.76811952,\n",
       "        12.0450354 ,  12.32846739,  12.61856883,  12.91549665,\n",
       "        13.21941148,  13.53047775,  13.84886371,  14.17474163,\n",
       "        14.50828778,  14.84968262,  15.19911083,  15.55676144,\n",
       "        15.92282793,  16.29750835,  16.68100537,  17.07352647,\n",
       "        17.47528...\n",
       "       0.31306122, 0.33326531, 0.35346939, 0.37367347, 0.39387755,\n",
       "       0.41408163, 0.43428571, 0.4544898 , 0.47469388, 0.49489796,\n",
       "       0.51510204, 0.53530612, 0.5555102 , 0.57571429, 0.59591837,\n",
       "       0.61612245, 0.63632653, 0.65653061, 0.67673469, 0.69693878,\n",
       "       0.71714286, 0.73734694, 0.75755102, 0.7777551 , 0.79795918,\n",
       "       0.81816327, 0.83836735, 0.85857143, 0.87877551, 0.89897959,\n",
       "       0.91918367, 0.93938776, 0.95959184, 0.97979592, 1.        ])})"
      ]
     },
     "execution_count": 72,
     "metadata": {},
     "output_type": "execute_result"
    }
   ],
   "source": [
    "model = ElasticNet()\n",
    "params = {\"alpha\":np.logspace(1,2,100), \"l1_ratio\":np.linspace(.01,1,50)}\n",
    "gr_model = GridSearchCV(model, params)\n",
    "gr_model.fit(X_train, y_train)\n"
   ]
  },
  {
   "cell_type": "code",
   "execution_count": 73,
   "metadata": {},
   "outputs": [
    {
     "name": "stdout",
     "output_type": "stream",
     "text": [
      "rmse:\t\t2.3811150661557594\n",
      "mae:\t\t1.6902285765066887\n",
      "R2_score:\t0.7538717129890955\n"
     ]
    },
    {
     "data": {
      "text/plain": [
       "(None, 0.7980290959862499, {'alpha': 10.0, 'l1_ratio': 0.01})"
      ]
     },
     "execution_count": 73,
     "metadata": {},
     "output_type": "execute_result"
    }
   ],
   "source": [
    "y_pred = gr_model.predict(X_test)\n",
    "eval_model(y_test,y_pred),gr_model.best_score_, gr_model.best_params_"
   ]
  }
 ],
 "metadata": {
  "colab": {
   "name": "used_car_price_prediction_assignment1.ipynb",
   "provenance": []
  },
  "interpreter": {
   "hash": "f836c58d309715f431d21ea39d8cb66c2ddf482ef639ebb411732f72bb4b901e"
  },
  "kernelspec": {
   "display_name": "Python 3.9.7 ('pythonProject')",
   "language": "python",
   "name": "python3"
  },
  "language_info": {
   "codemirror_mode": {
    "name": "ipython",
    "version": 3
   },
   "file_extension": ".py",
   "mimetype": "text/x-python",
   "name": "python",
   "nbconvert_exporter": "python",
   "pygments_lexer": "ipython3",
   "version": "3.9.7"
  }
 },
 "nbformat": 4,
 "nbformat_minor": 1
}
